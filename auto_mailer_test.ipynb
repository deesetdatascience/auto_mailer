{
 "cells": [
  {
   "cell_type": "code",
   "execution_count": 2,
   "metadata": {},
   "outputs": [],
   "source": [
    "%autoreload 2\n",
    "\n",
    "from auto_mailer import EmailSender\n",
    "\n",
    "emailer = EmailSender()\n",
    "\n",
    "emailer.send_email(\n",
    "    message_html=\"Hello - this is a test message\",\n",
    "    subject=\"Test message, please ignore\",\n",
    "    #sent_from=\"\"\n",
    "    to=['josiah.halstead@deeset.co.uk'],\n",
    ")"
   ]
  }
 ],
 "metadata": {
  "kernelspec": {
   "display_name": "Python 3",
   "language": "python",
   "name": "python3"
  },
  "language_info": {
   "codemirror_mode": {
    "name": "ipython",
    "version": 3
   },
   "file_extension": ".py",
   "mimetype": "text/x-python",
   "name": "python",
   "nbconvert_exporter": "python",
   "pygments_lexer": "ipython3",
   "version": "3.6.5"
  }
 },
 "nbformat": 4,
 "nbformat_minor": 2
}
